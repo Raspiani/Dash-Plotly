{
 "cells": [
  {
   "cell_type": "markdown",
   "metadata": {},
   "source": [
    "## Plotly Dash - Cara Mengambil Bantuan (Take Help Related) untuk Komponen Dash Plotly\n",
    "\n",
    "Berikut ini cara mengambil bantuan (take help related) untuk komponen dash plotly."
   ]
  },
  {
   "cell_type": "code",
   "execution_count": 1,
   "metadata": {},
   "outputs": [],
   "source": [
    "#memasukan modul yang digunakan\n",
    "import dash\n",
    "import dash_core_components as dcc\n",
    "import dash_html_components as html"
   ]
  },
  {
   "cell_type": "code",
   "execution_count": 2,
   "metadata": {},
   "outputs": [],
   "source": [
    "#mendefinisikan app\n",
    "app = dash.Dash()"
   ]
  },
  {
   "cell_type": "code",
   "execution_count": 3,
   "metadata": {},
   "outputs": [],
   "source": [
    "#mengisi konten pada dashboard\n",
    "app.layout = html.Div([\n",
    "    html.H1(\"Hello Raspi!!!\"),\n",
    "    html.Div(\"Selamat Belajar Dash ya!!\"),\n",
    "    html.Div(\"Dash - A Data product development framework from plotly\")\n",
    "])"
   ]
  },
  {
   "cell_type": "code",
   "execution_count": 4,
   "metadata": {
    "scrolled": true
   },
   "outputs": [
    {
     "name": "stdout",
     "output_type": "stream",
     "text": [
      " * Serving Flask app \"__main__\" (lazy loading)\n",
      " * Environment: production\n",
      "   WARNING: Do not use the development server in a production environment.\n",
      "   Use a production WSGI server instead.\n",
      " * Debug mode: off\n"
     ]
    },
    {
     "name": "stderr",
     "output_type": "stream",
     "text": [
      " * Running on http://127.0.0.1:4050/ (Press CTRL+C to quit)\n"
     ]
    }
   ],
   "source": [
    "#melihat hasil dashboard\n",
    "if __name__ == '__main__':\n",
    "    app.run_server(port = 4050)"
   ]
  },
  {
   "cell_type": "code",
   "execution_count": 5,
   "metadata": {},
   "outputs": [
    {
     "name": "stdout",
     "output_type": "stream",
     "text": [
      "Help on class Div in module dash_html_components.Div:\n",
      "\n",
      "class Div(dash.development.base_component.Component)\n",
      " |  A Div component.\n",
      " |  Div is a wrapper for the <div> HTML5 element.\n",
      " |  For detailed attribute info see:\n",
      " |  https://developer.mozilla.org/en-US/docs/Web/HTML/Element/div\n",
      " |  \n",
      " |  Keyword arguments:\n",
      " |  - children (a list of or a singular dash component, string or number; optional): The children of this component\n",
      " |  - id (string; optional): The ID of this component, used to identify dash components\n",
      " |  in callbacks. The ID needs to be unique across all of the\n",
      " |  components in an app.\n",
      " |  - n_clicks (number; default 0): An integer that represents the number of times\n",
      " |  that this element has been clicked on.\n",
      " |  - n_clicks_timestamp (number; default -1): An integer that represents the time (in ms since 1970)\n",
      " |  at which n_clicks changed. This can be used to tell\n",
      " |  which button was changed most recently.\n",
      " |  - key (string; optional): A unique identifier for the component, used to improve\n",
      " |  performance by React.js while rendering components\n",
      " |  See https://reactjs.org/docs/lists-and-keys.html for more info\n",
      " |  - role (string; optional): The ARIA role attribute\n",
      " |  - data-* (string; optional): A wildcard data attribute\n",
      " |  - aria-* (string; optional): A wildcard aria attribute\n",
      " |  - accessKey (string; optional): Defines a keyboard shortcut to activate or add focus to the element.\n",
      " |  - className (string; optional): Often used with CSS to style elements with common properties.\n",
      " |  - contentEditable (string; optional): Indicates whether the element's content is editable.\n",
      " |  - contextMenu (string; optional): Defines the ID of a <menu> element which will serve as the element's context menu.\n",
      " |  - dir (string; optional): Defines the text direction. Allowed values are ltr (Left-To-Right) or rtl (Right-To-Left)\n",
      " |  - draggable (string; optional): Defines whether the element can be dragged.\n",
      " |  - hidden (a value equal to: 'hidden', 'HIDDEN' | boolean; optional): Prevents rendering of given element, while keeping child elements, e.g. script elements, active.\n",
      " |  - lang (string; optional): Defines the language used in the element.\n",
      " |  - spellCheck (string; optional): Indicates whether spell checking is allowed for the element.\n",
      " |  - style (dict; optional): Defines CSS styles which will override styles previously set.\n",
      " |  - tabIndex (string; optional): Overrides the browser's default tab order and follows the one specified instead.\n",
      " |  - title (string; optional): Text to be displayed in a tooltip when hovering over the element.\n",
      " |  - loading_state (dict; optional): Object that holds the loading state object coming from dash-renderer. loading_state has the following type: dict containing keys 'is_loading', 'prop_name', 'component_name'.\n",
      " |  Those keys have the following types:\n",
      " |    - is_loading (boolean; optional): Determines if the component is loading or not\n",
      " |    - prop_name (string; optional): Holds which property is loading\n",
      " |    - component_name (string; optional): Holds the name of the component that is loading\n",
      " |  \n",
      " |  Method resolution order:\n",
      " |      Div\n",
      " |      dash.development.base_component.Component\n",
      " |      builtins.object\n",
      " |  \n",
      " |  Methods defined here:\n",
      " |  \n",
      " |  __init__ = wrapper(self, children=None, id=undefined, n_clicks=undefined, n_clicks_timestamp=undefined, key=undefined, role=undefined, accessKey=undefined, className=undefined, contentEditable=undefined, contextMenu=undefined, dir=undefined, draggable=undefined, hidden=undefined, lang=undefined, spellCheck=undefined, style=undefined, tabIndex=undefined, title=undefined, loading_state=undefined, **kwargs)\n",
      " |  \n",
      " |  ----------------------------------------------------------------------\n",
      " |  Data and other attributes defined here:\n",
      " |  \n",
      " |  __abstractmethods__ = frozenset()\n",
      " |  \n",
      " |  ----------------------------------------------------------------------\n",
      " |  Methods inherited from dash.development.base_component.Component:\n",
      " |  \n",
      " |  __delitem__(self, id)\n",
      " |      Delete items by ID in the tree of children.\n",
      " |  \n",
      " |  __getitem__(self, id)\n",
      " |      Recursively find the element with the given ID through the tree\n",
      " |      of children.\n",
      " |  \n",
      " |  __iter__(self)\n",
      " |      Yield IDs in the tree of children.\n",
      " |  \n",
      " |  __len__(self)\n",
      " |      Return the number of items in the tree.\n",
      " |  \n",
      " |  __repr__(self)\n",
      " |      Return repr(self).\n",
      " |  \n",
      " |  __setitem__(self, id, item)\n",
      " |      Set an element by its ID.\n",
      " |  \n",
      " |  to_plotly_json(self)\n",
      " |  \n",
      " |  ----------------------------------------------------------------------\n",
      " |  Data descriptors inherited from dash.development.base_component.Component:\n",
      " |  \n",
      " |  __dict__\n",
      " |      dictionary for instance variables (if defined)\n",
      " |  \n",
      " |  __weakref__\n",
      " |      list of weak references to the object (if defined)\n",
      " |  \n",
      " |  ----------------------------------------------------------------------\n",
      " |  Data and other attributes inherited from dash.development.base_component.Component:\n",
      " |  \n",
      " |  REQUIRED = required\n",
      " |  \n",
      " |  UNDEFINED = undefined\n",
      "\n"
     ]
    }
   ],
   "source": [
    "#help in dash plotly\n",
    "help(html.Div)"
   ]
  },
  {
   "cell_type": "code",
   "execution_count": 6,
   "metadata": {
    "scrolled": false
   },
   "outputs": [
    {
     "name": "stdout",
     "output_type": "stream",
     "text": [
      "Help on class Dropdown in module dash_core_components.Dropdown:\n",
      "\n",
      "class Dropdown(dash.development.base_component.Component)\n",
      " |  A Dropdown component.\n",
      " |  Dropdown is an interactive dropdown element for selecting one or more\n",
      " |  items.\n",
      " |  The values and labels of the dropdown items are specified in the `options`\n",
      " |  property and the selected item(s) are specified with the `value` property.\n",
      " |  \n",
      " |  Use a dropdown when you have many options (more than 5) or when you are\n",
      " |  constrained for space. Otherwise, you can use RadioItems or a Checklist,\n",
      " |  which have the benefit of showing the users all of the items at once.\n",
      " |  \n",
      " |  Keyword arguments:\n",
      " |  - id (string; optional): The ID of this component, used to identify dash components\n",
      " |  in callbacks. The ID needs to be unique across all of the\n",
      " |  components in an app.\n",
      " |  - options (dict; optional): An array of options {label: [string|number], value: [string|number]},\n",
      " |  an optional disabled field can be used for each option. options has the following type: list of dicts containing keys 'label', 'value', 'disabled'.\n",
      " |  Those keys have the following types:\n",
      " |    - label (string | number; required): The dropdown's label\n",
      " |    - value (string | number; required): The value of the dropdown. This value\n",
      " |  corresponds to the items specified in the\n",
      " |  `value` property.\n",
      " |    - disabled (boolean; optional): If true, this option is disabled and cannot be selected.\n",
      " |  - value (string | number | list of string | numbers; optional): The value of the input. If `multi` is false (the default)\n",
      " |  then value is just a string that corresponds to the values\n",
      " |  provided in the `options` property. If `multi` is true, then\n",
      " |  multiple values can be selected at once, and `value` is an\n",
      " |  array of items with values corresponding to those in the\n",
      " |  `options` prop.\n",
      " |  - optionHeight (number; default 35): height of each option. Can be increased when label lengths would wrap around\n",
      " |  - className (string; optional): className of the dropdown element\n",
      " |  - clearable (boolean; default True): Whether or not the dropdown is \"clearable\", that is, whether or\n",
      " |  not a small \"x\" appears on the right of the dropdown that removes\n",
      " |  the selected value.\n",
      " |  - disabled (boolean; default False): If true, this dropdown is disabled and the selection cannot be changed.\n",
      " |  - multi (boolean; default False): If true, the user can select multiple values\n",
      " |  - placeholder (string; optional): The grey, default text shown when no option is selected\n",
      " |  - searchable (boolean; default True): Whether to enable the searching feature or not\n",
      " |  - style (dict; optional): Defines CSS styles which will override styles previously set.\n",
      " |  - loading_state (dict; optional): Object that holds the loading state object coming from dash-renderer. loading_state has the following type: dict containing keys 'is_loading', 'prop_name', 'component_name'.\n",
      " |  Those keys have the following types:\n",
      " |    - is_loading (boolean; optional): Determines if the component is loading or not\n",
      " |    - prop_name (string; optional): Holds which property is loading\n",
      " |    - component_name (string; optional): Holds the name of the component that is loading\n",
      " |  \n",
      " |  Method resolution order:\n",
      " |      Dropdown\n",
      " |      dash.development.base_component.Component\n",
      " |      builtins.object\n",
      " |  \n",
      " |  Methods defined here:\n",
      " |  \n",
      " |  __init__ = wrapper(self, id=undefined, options=undefined, value=undefined, optionHeight=undefined, className=undefined, clearable=undefined, disabled=undefined, multi=undefined, placeholder=undefined, searchable=undefined, style=undefined, loading_state=undefined, **kwargs)\n",
      " |  \n",
      " |  ----------------------------------------------------------------------\n",
      " |  Data and other attributes defined here:\n",
      " |  \n",
      " |  __abstractmethods__ = frozenset()\n",
      " |  \n",
      " |  ----------------------------------------------------------------------\n",
      " |  Methods inherited from dash.development.base_component.Component:\n",
      " |  \n",
      " |  __delitem__(self, id)\n",
      " |      Delete items by ID in the tree of children.\n",
      " |  \n",
      " |  __getitem__(self, id)\n",
      " |      Recursively find the element with the given ID through the tree\n",
      " |      of children.\n",
      " |  \n",
      " |  __iter__(self)\n",
      " |      Yield IDs in the tree of children.\n",
      " |  \n",
      " |  __len__(self)\n",
      " |      Return the number of items in the tree.\n",
      " |  \n",
      " |  __repr__(self)\n",
      " |      Return repr(self).\n",
      " |  \n",
      " |  __setitem__(self, id, item)\n",
      " |      Set an element by its ID.\n",
      " |  \n",
      " |  to_plotly_json(self)\n",
      " |  \n",
      " |  ----------------------------------------------------------------------\n",
      " |  Data descriptors inherited from dash.development.base_component.Component:\n",
      " |  \n",
      " |  __dict__\n",
      " |      dictionary for instance variables (if defined)\n",
      " |  \n",
      " |  __weakref__\n",
      " |      list of weak references to the object (if defined)\n",
      " |  \n",
      " |  ----------------------------------------------------------------------\n",
      " |  Data and other attributes inherited from dash.development.base_component.Component:\n",
      " |  \n",
      " |  REQUIRED = required\n",
      " |  \n",
      " |  UNDEFINED = undefined\n",
      "\n"
     ]
    }
   ],
   "source": [
    "#help dash core\n",
    "help(dcc.Dropdown)"
   ]
  },
  {
   "cell_type": "markdown",
   "metadata": {},
   "source": [
    "                    #Semoga Bermanfaat\n",
    "                    #@Raspiani_"
   ]
  }
 ],
 "metadata": {
  "kernelspec": {
   "display_name": "Python 3",
   "language": "python",
   "name": "python3"
  },
  "language_info": {
   "codemirror_mode": {
    "name": "ipython",
    "version": 3
   },
   "file_extension": ".py",
   "mimetype": "text/x-python",
   "name": "python",
   "nbconvert_exporter": "python",
   "pygments_lexer": "ipython3",
   "version": "3.6.5"
  }
 },
 "nbformat": 4,
 "nbformat_minor": 2
}
